{
 "cells": [
  {
   "cell_type": "code",
   "execution_count": 1,
   "metadata": {},
   "outputs": [],
   "source": [
    "import datetime\n",
    "import hashlib\n",
    "import json\n",
    "import time\n",
    "from flask import Flask,jsonify"
   ]
  },
  {
   "cell_type": "code",
   "execution_count": 5,
   "metadata": {},
   "outputs": [],
   "source": [
    "class Fructosechain:\n",
    "    def __init__(self):\n",
    "        self.chain=[]\n",
    "        self.create_block(proof=1,previous_hash='0')\n",
    "        \n",
    "    def create_block(self,proof,previous_hash):\n",
    "        block={ 'index':len(self.chain)+1,\n",
    "                'timestamp': str(datetime.datetime.now()),\n",
    "                'proof': proof,\n",
    "                'previous_hash': previous_hash,}\n",
    "        self.chain.append(block)\n",
    "        return block\n",
    "    \n",
    "    def get_previous_block(self):\n",
    "        return self.chain[-1]\n",
    "    \n",
    "    def proof_of_work(self,previous_proof):\n",
    "        x=''\n",
    "        new_proof=1\n",
    "        check_proof=False\n",
    "        start = time.time()\n",
    "        while check_proof is False:\n",
    "            hash_operation = hashlib.sha256(str(new_proof**2-previous_proof**2).encode()).hexdigest()\n",
    "            if hash_operation[:5]=='00000':\n",
    "                check_proof=True\n",
    "                x=hash_operation\n",
    "            else:\n",
    "                new_proof+=1\n",
    "        end = time.time()        \n",
    "        print(x)\n",
    "        print(\"time taken for mining this block \" , end-start , \" seconds\")\n",
    "        return new_proof\n",
    "    \n",
    "    def hashfunc(self,block):\n",
    "        encoded_block= json.dumps(block,sort_keys=True).encode()\n",
    "        return hashlib.sha256(encoded_block).hexdigest()\n",
    "    \n",
    "    def is_chain_valid(self,chain):\n",
    "        previous_block= chain[0]\n",
    "        block_index=1\n",
    "        while block_index < len(chain):\n",
    "            block= chain[block_index]\n",
    "            if block['previous_hash'] != self.hashfunc(previous_block):\n",
    "                return False\n",
    "            previous_proof=previous_block['proof']\n",
    "            proof=block['proof']\n",
    "            hash_operation = hashlib.sha256(str(proof**2-previous_proof**2).encode()).hexdigest()\n",
    "            if hash_operation[:5] != '00000':\n",
    "                return False\n",
    "            previous_block = block\n",
    "            block_index+=1\n",
    "        return True\n",
    "        "
   ]
  },
  {
   "cell_type": "code",
   "execution_count": 6,
   "metadata": {},
   "outputs": [],
   "source": [
    "blockchain = Fructosechain()\n",
    "def mine_block():\n",
    "    previous_block= blockchain.get_previous_block()\n",
    "    previous_proof = previous_block['proof']\n",
    "    proof= blockchain.proof_of_work(previous_proof)\n",
    "    previous_hash = blockchain.hashfunc(previous_block)\n",
    "    block = blockchain.create_block(proof, previous_hash)\n",
    "    response = {'message': 'Congrats',\n",
    "                'index:': block['index'],\n",
    "                'timestamp': block['timestamp'],\n",
    "                'proof': block['proof'],\n",
    "                'prev_hash': block['previous_hash']}\n",
    "    return response\n",
    "def get_chain():\n",
    "    response= {'chain': blockchain.chain,\n",
    "               'length': len(blockchain.chain)}\n",
    "    return response\n"
   ]
  },
  {
   "cell_type": "code",
   "execution_count": 7,
   "metadata": {},
   "outputs": [
    {
     "name": "stdout",
     "output_type": "stream",
     "text": [
      "00000d27548b48fb9948dec841504bb2dfe0ad4812f0f6c049f2cd02dada6dcd\n",
      "time taken for mining this block  1.7439699172973633  seconds\n",
      "{'message': 'Congrats', 'index:': 2, 'timestamp': '2021-07-05 10:51:50.157764', 'proof': 632238, 'prev_hash': 'd171661b397fa00b38d4ff55dd8643a41c0f7ee12a1b4f12faf56a7fc6fab5b0'} \n",
      "\n",
      "0000017754b4bb35fcbc5efaa3411bb0d63b5318b19622638cc9d912bf33b340\n",
      "time taken for mining this block  1.2840008735656738  seconds\n",
      "{'message': 'Congrats', 'index:': 3, 'timestamp': '2021-07-05 10:51:51.441765', 'proof': 403091, 'prev_hash': 'f49eb244e31b0bcbf8ecbcb829fb59903272f6d32f6c69e37505e81fb688a706'} \n",
      "\n",
      "000005bfe05efd7f78e96b9e6c0b71d8baf27eda029910e32a5f946e5e89cf0b\n",
      "time taken for mining this block  2.142725944519043  seconds\n",
      "{'message': 'Congrats', 'index:': 4, 'timestamp': '2021-07-05 10:51:53.584490', 'proof': 714736, 'prev_hash': '87f61e8b613e733d74404a6dd3be2308548b10a52b87dd4fe1b34ab9499d9e36'} \n",
      "\n",
      "00000c1eb2d0d15a25c65de38e061cc2257896376f22165f04c1dfeea01d03ec\n",
      "time taken for mining this block  1.4360084533691406  seconds\n",
      "{'message': 'Congrats', 'index:': 5, 'timestamp': '2021-07-05 10:51:55.020499', 'proof': 476581, 'prev_hash': 'af1f764e3eaad43d82223891d664b758dc01e64a9d91e97301e75710dc768030'} \n",
      "\n",
      "00000e522b6c4a437fdc71ed3c560e63fa21db2b826d7a5db40ee2b82a7a53d7\n",
      "time taken for mining this block  1.3599774837493896  seconds\n",
      "{'message': 'Congrats', 'index:': 6, 'timestamp': '2021-07-05 10:51:56.380476', 'proof': 431630, 'prev_hash': 'dbf759b87be5dba24f1ed40faec7c6b2e8e9598026cff707322a79c8266983c5'} \n",
      "\n",
      "{'chain': [{'index': 1, 'timestamp': '2021-07-05 10:51:47.761216', 'proof': 1, 'previous_hash': '0'}, {'index': 2, 'timestamp': '2021-07-05 10:51:50.157764', 'proof': 632238, 'previous_hash': 'd171661b397fa00b38d4ff55dd8643a41c0f7ee12a1b4f12faf56a7fc6fab5b0'}, {'index': 3, 'timestamp': '2021-07-05 10:51:51.441765', 'proof': 403091, 'previous_hash': 'f49eb244e31b0bcbf8ecbcb829fb59903272f6d32f6c69e37505e81fb688a706'}, {'index': 4, 'timestamp': '2021-07-05 10:51:53.584490', 'proof': 714736, 'previous_hash': '87f61e8b613e733d74404a6dd3be2308548b10a52b87dd4fe1b34ab9499d9e36'}, {'index': 5, 'timestamp': '2021-07-05 10:51:55.020499', 'proof': 476581, 'previous_hash': 'af1f764e3eaad43d82223891d664b758dc01e64a9d91e97301e75710dc768030'}, {'index': 6, 'timestamp': '2021-07-05 10:51:56.380476', 'proof': 431630, 'previous_hash': 'dbf759b87be5dba24f1ed40faec7c6b2e8e9598026cff707322a79c8266983c5'}], 'length': 6}\n"
     ]
    }
   ],
   "source": [
    "for i in range(5):\n",
    "    print(mine_block(),'\\n')\n",
    "print(get_chain())"
   ]
  },
  {
   "cell_type": "code",
   "execution_count": null,
   "metadata": {},
   "outputs": [],
   "source": []
  }
 ],
 "metadata": {
  "kernelspec": {
   "display_name": "Python 3",
   "language": "python",
   "name": "python3"
  },
  "language_info": {
   "codemirror_mode": {
    "name": "ipython",
    "version": 3
   },
   "file_extension": ".py",
   "mimetype": "text/x-python",
   "name": "python",
   "nbconvert_exporter": "python",
   "pygments_lexer": "ipython3",
   "version": "3.9.1"
  }
 },
 "nbformat": 4,
 "nbformat_minor": 4
}
